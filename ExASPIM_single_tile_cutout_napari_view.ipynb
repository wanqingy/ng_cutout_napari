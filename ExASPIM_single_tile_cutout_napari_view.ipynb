{
 "cells": [
  {
   "cell_type": "code",
   "execution_count": null,
   "metadata": {},
   "outputs": [
    {
     "name": "stderr",
     "output_type": "stream",
     "text": [
      "\n",
      "A module that was compiled using NumPy 1.x cannot be run in\n",
      "NumPy 2.1.3 as it may crash. To support both 1.x and 2.x\n",
      "versions of NumPy, modules must be compiled with NumPy 2.0.\n",
      "Some module may need to rebuild instead e.g. with 'pybind11>=2.12'.\n",
      "\n",
      "If you are a user of the module, the easiest solution will be to\n",
      "downgrade to 'numpy<2' or try to upgrade the affected module.\n",
      "We expect that some modules will need time to support NumPy 2.\n",
      "\n",
      "Traceback (most recent call last):  File \"<frozen runpy>\", line 198, in _run_module_as_main\n",
      "  File \"<frozen runpy>\", line 88, in _run_code\n",
      "  File \"d:\\projects\\ng_cutout_napari\\.venv\\Lib\\site-packages\\ipykernel_launcher.py\", line 18, in <module>\n",
      "    app.launch_new_instance()\n",
      "  File \"d:\\projects\\ng_cutout_napari\\.venv\\Lib\\site-packages\\traitlets\\config\\application.py\", line 1075, in launch_instance\n",
      "    app.start()\n",
      "  File \"d:\\projects\\ng_cutout_napari\\.venv\\Lib\\site-packages\\ipykernel\\kernelapp.py\", line 739, in start\n",
      "    self.io_loop.start()\n",
      "  File \"d:\\projects\\ng_cutout_napari\\.venv\\Lib\\site-packages\\tornado\\platform\\asyncio.py\", line 205, in start\n",
      "    self.asyncio_loop.run_forever()\n",
      "  File \"C:\\Users\\wanqing.yu\\AppData\\Roaming\\uv\\python\\cpython-3.12.9-windows-x86_64-none\\Lib\\asyncio\\base_events.py\", line 645, in run_forever\n",
      "    self._run_once()\n",
      "  File \"C:\\Users\\wanqing.yu\\AppData\\Roaming\\uv\\python\\cpython-3.12.9-windows-x86_64-none\\Lib\\asyncio\\base_events.py\", line 1999, in _run_once\n",
      "    handle._run()\n",
      "  File \"C:\\Users\\wanqing.yu\\AppData\\Roaming\\uv\\python\\cpython-3.12.9-windows-x86_64-none\\Lib\\asyncio\\events.py\", line 88, in _run\n",
      "    self._context.run(self._callback, *self._args)\n",
      "  File \"d:\\projects\\ng_cutout_napari\\.venv\\Lib\\site-packages\\ipykernel\\kernelbase.py\", line 545, in dispatch_queue\n",
      "    await self.process_one()\n",
      "  File \"d:\\projects\\ng_cutout_napari\\.venv\\Lib\\site-packages\\ipykernel\\kernelbase.py\", line 534, in process_one\n",
      "    await dispatch(*args)\n",
      "  File \"d:\\projects\\ng_cutout_napari\\.venv\\Lib\\site-packages\\ipykernel\\kernelbase.py\", line 437, in dispatch_shell\n",
      "    await result\n",
      "  File \"d:\\projects\\ng_cutout_napari\\.venv\\Lib\\site-packages\\ipykernel\\ipkernel.py\", line 362, in execute_request\n",
      "    await super().execute_request(stream, ident, parent)\n",
      "  File \"d:\\projects\\ng_cutout_napari\\.venv\\Lib\\site-packages\\ipykernel\\kernelbase.py\", line 778, in execute_request\n",
      "    reply_content = await reply_content\n",
      "  File \"d:\\projects\\ng_cutout_napari\\.venv\\Lib\\site-packages\\ipykernel\\ipkernel.py\", line 449, in do_execute\n",
      "    res = shell.run_cell(\n",
      "  File \"d:\\projects\\ng_cutout_napari\\.venv\\Lib\\site-packages\\ipykernel\\zmqshell.py\", line 549, in run_cell\n",
      "    return super().run_cell(*args, **kwargs)\n",
      "  File \"d:\\projects\\ng_cutout_napari\\.venv\\Lib\\site-packages\\IPython\\core\\interactiveshell.py\", line 3047, in run_cell\n",
      "    result = self._run_cell(\n",
      "  File \"d:\\projects\\ng_cutout_napari\\.venv\\Lib\\site-packages\\IPython\\core\\interactiveshell.py\", line 3102, in _run_cell\n",
      "    result = runner(coro)\n",
      "  File \"d:\\projects\\ng_cutout_napari\\.venv\\Lib\\site-packages\\IPython\\core\\async_helpers.py\", line 128, in _pseudo_sync_runner\n",
      "    coro.send(None)\n",
      "  File \"d:\\projects\\ng_cutout_napari\\.venv\\Lib\\site-packages\\IPython\\core\\interactiveshell.py\", line 3306, in run_cell_async\n",
      "    has_raised = await self.run_ast_nodes(code_ast.body, cell_name,\n",
      "  File \"d:\\projects\\ng_cutout_napari\\.venv\\Lib\\site-packages\\IPython\\core\\interactiveshell.py\", line 3489, in run_ast_nodes\n",
      "    if await self.run_code(code, result, async_=asy):\n",
      "  File \"d:\\projects\\ng_cutout_napari\\.venv\\Lib\\site-packages\\IPython\\core\\interactiveshell.py\", line 3549, in run_code\n",
      "    exec(code_obj, self.user_global_ns, self.user_ns)\n",
      "  File \"C:\\Users\\wanqing.yu\\AppData\\Local\\Temp\\ipykernel_37332\\480251579.py\", line 4, in <module>\n",
      "    from ac_segmentation.neurotorch.datasets.dataset import open_ZarrTensor\n",
      "  File \"d:\\projects\\ng_cutout_napari\\.venv\\Lib\\site-packages\\ac_segmentation\\neurotorch\\datasets\\dataset.py\", line 1, in <module>\n",
      "    import torch\n",
      "  File \"d:\\projects\\ng_cutout_napari\\.venv\\Lib\\site-packages\\torch\\__init__.py\", line 1471, in <module>\n",
      "    from .functional import *  # noqa: F403\n",
      "  File \"d:\\projects\\ng_cutout_napari\\.venv\\Lib\\site-packages\\torch\\functional.py\", line 9, in <module>\n",
      "    import torch.nn.functional as F\n",
      "  File \"d:\\projects\\ng_cutout_napari\\.venv\\Lib\\site-packages\\torch\\nn\\__init__.py\", line 1, in <module>\n",
      "    from .modules import *  # noqa: F403\n",
      "  File \"d:\\projects\\ng_cutout_napari\\.venv\\Lib\\site-packages\\torch\\nn\\modules\\__init__.py\", line 35, in <module>\n",
      "    from .transformer import TransformerEncoder, TransformerDecoder, \\\n",
      "  File \"d:\\projects\\ng_cutout_napari\\.venv\\Lib\\site-packages\\torch\\nn\\modules\\transformer.py\", line 20, in <module>\n",
      "    device: torch.device = torch.device(torch._C._get_default_device()),  # torch.device('cpu'),\n",
      "d:\\projects\\ng_cutout_napari\\.venv\\Lib\\site-packages\\torch\\nn\\modules\\transformer.py:20: UserWarning: Failed to initialize NumPy: _ARRAY_API not found (Triggered internally at ..\\torch\\csrc\\utils\\tensor_numpy.cpp:84.)\n",
      "  device: torch.device = torch.device(torch._C._get_default_device()),  # torch.device('cpu'),\n"
     ]
    }
   ],
   "source": [
    "import numpy as np\n",
    "\n",
    "from ac_segmentation.neurotorch.datasets.dataset import open_ZarrTensor\n",
    "\n",
    "# zarr://http://bigkahuna.corp.alleninstitute.org/ACdata/Users/kevin/exaspim_ome_zarr/svc_axonal/H17_PO11_S9_20250221/exaSPIM.zarr/Pos0"
   ]
  },
  {
   "cell_type": "code",
   "execution_count": null,
   "metadata": {},
   "outputs": [],
   "source": [
    "## data set up\n",
    "subfolder = 'H17_PO11_S8_20250226_exaSPIM_Pos0_cutout1'\n",
    "\n",
    "## check whether the subfolder exists\n",
    "import os\n",
    "if not os.path.exists(f'Z:/Users/wanqing/data/image/{subfolder}'):\n",
    "    os.makedirs(f'Z:/Users/wanqing/data/image/{subfolder}')\n",
    "\n",
    "roi_bbox_NG = {\n",
    "    \"y\": (18719, 20782),\n",
    "    \"x\": (1688, 1905), \n",
    "    \"z\": (29031, 33102)\n",
    "}\n",
    "\n",
    "# Individual tile bounding boxes\n",
    "tile_bboxes_NG = [\n",
    "    {\"z\": (0, 69008), \"y\": (12062, 26254), \"x\": (-1, 5319)}\n",
    "]\n",
    "\n",
    "# path to the tile + mip level data\n",
    "tile_paths = [\n",
    "    \"Z:/Users/kevin/exaspim_ome_zarr/svc_axonal/H17_PO11_S8_20250226/exaSPIM.zarr/Pos0/0/\"\n",
    "]\n",
    "\n",
    "zarr_output_path = f'Z:/Users/wanqing/data/image/{subfolder}/{subfolder}.zarr'\n",
    "\n",
    "tiff_output_path = f'Z:/Users/wanqing/data/image/{subfolder}/{subfolder}.tiff'\n",
    "\n",
    "## save above metadata to a json file\n",
    "import json\n",
    "metadata = {\n",
    "    \"roi_bbox_NG\": roi_bbox_NG,\n",
    "    \"tile_bboxes_NG\": tile_bboxes_NG,\n",
    "    \"tile_paths\": tile_paths,\n",
    "    \"zarr_output_path\": zarr_output_path,\n",
    "    \"tiff_output_path\": tiff_output_path\n",
    "}\n",
    "\n",
    "with open(f'Z:/Users/wanqing/data/image/{subfolder}/{subfolder}_metadata.json', 'w') as f:\n",
    "    json.dump(metadata, f)"
   ]
  },
  {
   "cell_type": "code",
   "execution_count": 9,
   "metadata": {},
   "outputs": [],
   "source": [
    "import tensorstore as ts\n",
    "def create_EmptyTensor(filepath, shape, driver = 'zarr3', dtype = 'uint16', fill_value = -np.inf, chunk_shape = [64, 64, 64]):\n",
    "    out_arr = ts.open({\n",
    "     'driver': driver,\n",
    "     'kvstore': 'file://' + str(filepath),\n",
    "     },\n",
    "     dtype=dtype,\n",
    "     fill_value=fill_value,\n",
    "     chunk_layout=ts.ChunkLayout(chunk_shape=chunk_shape),\n",
    "     create=True,\n",
    "     shape=list(shape)).result()\n",
    "    return out_arr"
   ]
  },
  {
   "cell_type": "code",
   "execution_count": null,
   "metadata": {},
   "outputs": [],
   "source": [
    "# roi shape\n",
    "roi_shape_TS = (\n",
    "    roi_bbox_NG[\"z\"][1] - roi_bbox_NG[\"z\"][0],\n",
    "    roi_bbox_NG[\"y\"][1] - roi_bbox_NG[\"y\"][0],\n",
    "    roi_bbox_NG[\"x\"][1] - roi_bbox_NG[\"x\"][0]\n",
    ")\n",
    "\n",
    "# Calculate TS-> NG shift values\n",
    "TS2NG_shift_values = {\n",
    "    \"z\": -roi_bbox_NG[\"z\"][0],\n",
    "    \"y\": -roi_bbox_NG[\"y\"][0],\n",
    "    \"x\": -roi_bbox_NG[\"x\"][0]\n",
    "}\n",
    "\n",
    "# Apply shift to ROI bounding box (in TS space)\n",
    "roi_bbox_TS = {\n",
    "    \"x\": (roi_bbox_NG[\"x\"][0] + TS2NG_shift_values[\"x\"], roi_bbox_NG[\"x\"][1] + TS2NG_shift_values[\"x\"]),\n",
    "    \"y\": (roi_bbox_NG[\"y\"][0] + TS2NG_shift_values[\"y\"], roi_bbox_NG[\"y\"][1] + TS2NG_shift_values[\"y\"]),\n",
    "    \"z\": (roi_bbox_NG[\"z\"][0] + TS2NG_shift_values[\"z\"], roi_bbox_NG[\"z\"][1] + TS2NG_shift_values[\"z\"])\n",
    "}\n",
    "\n",
    "# calculate individual tile -> NG shift\n",
    "tile2NG_shift_values = []\n",
    "for bbox in tile_bboxes_NG:\n",
    "    tile2NG_shift_values.append({\n",
    "        \"z\": -bbox[\"z\"][0],\n",
    "        \"y\": -bbox[\"y\"][0],\n",
    "        \"x\": -bbox[\"x\"][0]\n",
    "    })\n",
    "\n",
    "# calculate roi bbox for each tile in NG space\n",
    "roi_bbox_tile_NG = []\n",
    "for bbox in tile_bboxes_NG:\n",
    "    z_start = max(roi_bbox_NG[\"z\"][0], bbox[\"z\"][0])\n",
    "    z_end = min(roi_bbox_NG[\"z\"][1], bbox[\"z\"][1])\n",
    "    y_start = max(roi_bbox_NG[\"y\"][0], bbox[\"y\"][0])\n",
    "    y_end = min(roi_bbox_NG[\"y\"][1], bbox[\"y\"][1])\n",
    "    x_start = max(roi_bbox_NG[\"x\"][0], bbox[\"x\"][0])\n",
    "    x_end = min(roi_bbox_NG[\"x\"][1], bbox[\"x\"][1])\n",
    "\n",
    "    # Check if the bounding boxes overlap\n",
    "    if z_start < z_end and y_start < y_end and x_start < x_end:\n",
    "        roi_bbox_tile_NG.append({\n",
    "            \"z\": (z_start, z_end),\n",
    "            \"y\": (y_start, y_end),\n",
    "            \"x\": (x_start, x_end)\n",
    "        })\n",
    "    else:\n",
    "        # Append None for non-overlapping regions\n",
    "        roi_bbox_tile_NG.append(None)\n",
    "\n",
    "# shift roi_bbox_tile_NG to TS space, using TS2NG_shift_values\n",
    "roi_bbox_tile_TS = []\n",
    "for i, bbox in enumerate(roi_bbox_tile_NG):\n",
    "    if bbox is None:\n",
    "        roi_bbox_tile_TS.append(None)\n",
    "        continue\n",
    "    roi_bbox_tile_TS.append({\n",
    "        \"z\": (bbox[\"z\"][0] + TS2NG_shift_values[\"z\"], bbox[\"z\"][1] + TS2NG_shift_values[\"z\"]),\n",
    "        \"y\": (bbox[\"y\"][0] + TS2NG_shift_values[\"y\"], bbox[\"y\"][1] + TS2NG_shift_values[\"y\"]),\n",
    "        \"x\": (bbox[\"x\"][0] + TS2NG_shift_values[\"x\"], bbox[\"x\"][1] + TS2NG_shift_values[\"x\"])\n",
    "    })\n",
    "\n",
    "# shift roi_bbox_tile_NG to tile space, using tile2NG_shift_values\n",
    "roi_bbox_tile = []\n",
    "for i, bbox in enumerate(roi_bbox_tile_NG):\n",
    "    if bbox is None:\n",
    "        roi_bbox_tile.append(None)\n",
    "        continue\n",
    "    roi_bbox_tile.append({\n",
    "        \"z\": (bbox[\"z\"][0] + tile2NG_shift_values[i][\"z\"], bbox[\"z\"][1] + tile2NG_shift_values[i][\"z\"]),\n",
    "        \"y\": (bbox[\"y\"][0] + tile2NG_shift_values[i][\"y\"], bbox[\"y\"][1] + tile2NG_shift_values[i][\"y\"]),\n",
    "        \"x\": (bbox[\"x\"][0] + tile2NG_shift_values[i][\"x\"], bbox[\"x\"][1] + tile2NG_shift_values[i][\"x\"])\n",
    "    })"
   ]
  },
  {
   "cell_type": "code",
   "execution_count": 11,
   "metadata": {},
   "outputs": [
    {
     "data": {
      "text/plain": [
       "[{'z': (29031, 33102), 'y': (18719, 20782), 'x': (1688, 1905)}]"
      ]
     },
     "execution_count": 11,
     "metadata": {},
     "output_type": "execute_result"
    }
   ],
   "source": [
    "roi_bbox_tile_NG"
   ]
  },
  {
   "cell_type": "code",
   "execution_count": null,
   "metadata": {},
   "outputs": [],
   "source": []
  },
  {
   "cell_type": "code",
   "execution_count": null,
   "metadata": {},
   "outputs": [],
   "source": [
    "out_arr = create_EmptyTensor(zarr_output_path, roi_shape_TS, dtype = 'uint16', fill_value=0)"
   ]
  },
  {
   "cell_type": "code",
   "execution_count": 14,
   "metadata": {},
   "outputs": [
    {
     "data": {
      "text/plain": [
       "(4071, 2063, 217)"
      ]
     },
     "execution_count": 14,
     "metadata": {},
     "output_type": "execute_result"
    }
   ],
   "source": [
    "out_arr.shape"
   ]
  },
  {
   "cell_type": "code",
   "execution_count": null,
   "metadata": {},
   "outputs": [
    {
     "name": "stdout",
     "output_type": "stream",
     "text": [
      "0\n"
     ]
    }
   ],
   "source": [
    "for i, tile_path in enumerate(tile_paths):\n",
    "    stack = open_ZarrTensor(tile_path, bytes_limit= 100_000_000)\n",
    "    bbox_tile = roi_bbox_tile[i]\n",
    "    bbox_tile_TS = roi_bbox_tile_TS[i]\n",
    "    if bbox_tile is None:\n",
    "        continue\n",
    "    stack = stack[0,0,bbox_tile[\"z\"][0]:bbox_tile[\"z\"][1],\n",
    "                  bbox_tile[\"y\"][0]:bbox_tile[\"y\"][1],\n",
    "                  bbox_tile[\"x\"][0]:bbox_tile[\"x\"][1]]\n",
    "    \n",
    "    out_arr[bbox_tile_TS[\"z\"][0]:bbox_tile_TS[\"z\"][1],\n",
    "            bbox_tile_TS[\"y\"][0]:bbox_tile_TS[\"y\"][1],\n",
    "            bbox_tile_TS[\"x\"][0]:bbox_tile_TS[\"x\"][1]].write(\n",
    "                stack.read().result()+\n",
    "                out_arr[bbox_tile_TS[\"z\"][0]:bbox_tile_TS[\"z\"][1], \n",
    "                        bbox_tile_TS[\"y\"][0]:bbox_tile_TS[\"y\"][1],\n",
    "                        bbox_tile_TS[\"x\"][0]:bbox_tile_TS[\"x\"][1]].read().result()).result()\n",
    "    print(i)"
   ]
  },
  {
   "cell_type": "code",
   "execution_count": 16,
   "metadata": {},
   "outputs": [
    {
     "data": {
      "text/plain": [
       "TensorStore({\n",
       "  'context': {\n",
       "    'cache_pool': {},\n",
       "    'data_copy_concurrency': {},\n",
       "    'file_io_concurrency': {},\n",
       "    'file_io_locking': {},\n",
       "    'file_io_memmap': False,\n",
       "    'file_io_sync': True,\n",
       "  },\n",
       "  'driver': 'zarr3',\n",
       "  'dtype': 'uint16',\n",
       "  'kvstore': {\n",
       "    'driver': 'file',\n",
       "    'path': 'Z:/Users/wanqing/data/image/H17_PO11_S8_20250226_exaSPIM_Pos0_cutout1_test/H17_PO11_S8_20250226_exaSPIM_Pos0_cutout1.zarr/',\n",
       "  },\n",
       "  'metadata': {\n",
       "    'chunk_grid': {\n",
       "      'configuration': {'chunk_shape': [64, 64, 64]},\n",
       "      'name': 'regular',\n",
       "    },\n",
       "    'chunk_key_encoding': {'name': 'default'},\n",
       "    'codecs': [{'configuration': {'endian': 'little'}, 'name': 'bytes'}],\n",
       "    'data_type': 'uint16',\n",
       "    'fill_value': 0,\n",
       "    'node_type': 'array',\n",
       "    'shape': [4071, 2063, 217],\n",
       "    'zarr_format': 3,\n",
       "  },\n",
       "  'transform': {\n",
       "    'input_exclusive_max': [[4071], [2063], [217]],\n",
       "    'input_inclusive_min': [0, 0, 0],\n",
       "  },\n",
       "})"
      ]
     },
     "execution_count": 16,
     "metadata": {},
     "output_type": "execute_result"
    }
   ],
   "source": [
    "out_arr"
   ]
  },
  {
   "cell_type": "code",
   "execution_count": null,
   "metadata": {},
   "outputs": [],
   "source": []
  },
  {
   "cell_type": "code",
   "execution_count": null,
   "metadata": {},
   "outputs": [],
   "source": [
    "import napari"
   ]
  },
  {
   "cell_type": "code",
   "execution_count": 18,
   "metadata": {},
   "outputs": [],
   "source": [
    "data = np.array(out_arr.read().result())"
   ]
  },
  {
   "cell_type": "code",
   "execution_count": null,
   "metadata": {},
   "outputs": [],
   "source": [
    "viewer = napari.Viewer()\n",
    "viewer.add_image(data)\n",
    "napari.run()"
   ]
  }
 ],
 "metadata": {
  "kernelspec": {
   "display_name": ".venv",
   "language": "python",
   "name": "python3"
  },
  "language_info": {
   "codemirror_mode": {
    "name": "ipython",
    "version": 3
   },
   "file_extension": ".py",
   "mimetype": "text/x-python",
   "name": "python",
   "nbconvert_exporter": "python",
   "pygments_lexer": "ipython3",
   "version": "3.12.9"
  }
 },
 "nbformat": 4,
 "nbformat_minor": 2
}
