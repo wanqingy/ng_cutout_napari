{
 "cells": [
  {
   "cell_type": "code",
   "execution_count": 1,
   "metadata": {},
   "outputs": [],
   "source": [
    "import sys\n",
    "import numpy as np\n",
    "\n",
    "from ac_segmentation.neurotorch.datasets.dataset import open_ZarrTensor\n",
    "\n",
    "# zarr://http://bigkahuna.corp.alleninstitute.org/ACdata/Users/kevin/exaspim_ome_zarr/svc_axonal/H17_PO11_S9_20250221/exaSPIM.zarr/Pos0"
   ]
  },
  {
   "cell_type": "code",
   "execution_count": 11,
   "metadata": {},
   "outputs": [],
   "source": [
    "## data set up\n",
    "subfolder = 'H17_PO11_S8_20250226_exaSPIM_Pos0_cutout1'\n",
    "\n",
    "## check whether the subfolder exists\n",
    "import os\n",
    "if not os.path.exists(f'/ACdata/Users/wanqing/data/image/{subfolder}'):\n",
    "    os.makedirs(f'/ACdata/Users/wanqing/data/image/{subfolder}')\n",
    "\n",
    "roi_bbox_NG = {\n",
    "    \"y\": (18719, 20782),\n",
    "    \"x\": (1688, 1905), \n",
    "    \"z\": (29031, 33102)\n",
    "}\n",
    "\n",
    "# Individual tile bounding boxes\n",
    "tile_bboxes_NG = [\n",
    "    {\"z\": (0, 69008), \"y\": (12062, 26254), \"x\": (-1, 5319)}\n",
    "]\n",
    "\n",
    "tile_paths = [\n",
    "    \"/ACdata/Users/kevin/exaspim_ome_zarr/svc_axonal/H17_PO11_S8_20250226/exaSPIM.zarr/Pos0/0/\"\n",
    "]\n",
    "\n",
    "zarr_output_path = f'/ACdata/Users/wanqing/data/image/{subfolder}/{subfolder}.zarr'\n",
    "\n",
    "tiff_output_path = f'/ACdata/Users/wanqing/data/image/{subfolder}/{subfolder}.tiff'\n",
    "\n",
    "## save above metadata to a json file\n",
    "import json\n",
    "metadata = {\n",
    "    \"roi_bbox_NG\": roi_bbox_NG,\n",
    "    \"tile_bboxes_NG\": tile_bboxes_NG,\n",
    "    \"tile_paths\": tile_paths,\n",
    "    \"zarr_output_path\": zarr_output_path,\n",
    "    \"tiff_output_path\": tiff_output_path\n",
    "}\n",
    "\n",
    "with open(f'/ACdata/Users/wanqing/data/image/{subfolder}/{subfolder}_metadata.json', 'w') as f:\n",
    "    json.dump(metadata, f)"
   ]
  },
  {
   "cell_type": "code",
   "execution_count": 12,
   "metadata": {},
   "outputs": [],
   "source": [
    "import tensorstore as ts\n",
    "def create_EmptyTensor(filepath, shape, driver = 'zarr3', dtype = 'uint16', fill_value = -np.inf, chunk_shape = [64, 64, 64]):\n",
    "    out_arr = ts.open({\n",
    "     'driver': driver,\n",
    "     'kvstore': 'file://' + str(filepath),\n",
    "     },\n",
    "     dtype=dtype,\n",
    "     fill_value=fill_value,\n",
    "     chunk_layout=ts.ChunkLayout(chunk_shape=chunk_shape),\n",
    "     create=True,\n",
    "     shape=list(shape)).result()\n",
    "    return out_arr"
   ]
  },
  {
   "cell_type": "code",
   "execution_count": null,
   "metadata": {},
   "outputs": [],
   "source": [
    "# def create_EmptyTensor(filepath, shape, dtype = 'uint16', fill_value = -np.inf, chunk_shape = [64, 64, 64]):\n",
    "#     out_arr = ts.open({\n",
    "#      'driver': 'zarr3',\n",
    "#      'kvstore': 'file://' + str(filepath),\n",
    "#      },\n",
    "#      dtype=dtype,\n",
    "#      fill_value=fill_value,\n",
    "#      chunk_layout=ts.ChunkLayout(chunk_shape=chunk_shape),\n",
    "#      create=True,\n",
    "#      shape=list(shape)).result()\n",
    "#     return out_arr"
   ]
  },
  {
   "cell_type": "code",
   "execution_count": 13,
   "metadata": {},
   "outputs": [],
   "source": [
    "## in NG space\n",
    "\n",
    "# ROI bounding box\n",
    "# roi_bbox_NG = {\n",
    "#     \"x\": (-3590, -1919),\n",
    "#     \"y\": (17741, 26159),\n",
    "#     \"z\": (25643, 49037)\n",
    "# }\n",
    "\n",
    "\n",
    "# roi shape\n",
    "roi_shape_TS = (\n",
    "    roi_bbox_NG[\"z\"][1] - roi_bbox_NG[\"z\"][0],\n",
    "    roi_bbox_NG[\"y\"][1] - roi_bbox_NG[\"y\"][0],\n",
    "    roi_bbox_NG[\"x\"][1] - roi_bbox_NG[\"x\"][0]\n",
    ")\n",
    "\n",
    "# Calculate TS-> NG shift values\n",
    "TS2NG_shift_values = {\n",
    "    \"z\": -roi_bbox_NG[\"z\"][0],\n",
    "    \"y\": -roi_bbox_NG[\"y\"][0],\n",
    "    \"x\": -roi_bbox_NG[\"x\"][0]\n",
    "}\n",
    "\n",
    "# Apply shift to ROI bounding box (in TS space)\n",
    "roi_bbox_TS = {\n",
    "    \"x\": (roi_bbox_NG[\"x\"][0] + TS2NG_shift_values[\"x\"], roi_bbox_NG[\"x\"][1] + TS2NG_shift_values[\"x\"]),\n",
    "    \"y\": (roi_bbox_NG[\"y\"][0] + TS2NG_shift_values[\"y\"], roi_bbox_NG[\"y\"][1] + TS2NG_shift_values[\"y\"]),\n",
    "    \"z\": (roi_bbox_NG[\"z\"][0] + TS2NG_shift_values[\"z\"], roi_bbox_NG[\"z\"][1] + TS2NG_shift_values[\"z\"])\n",
    "}\n",
    "\n",
    "# calculate individual tile -> NG shift\n",
    "tile2NG_shift_values = []\n",
    "for bbox in tile_bboxes_NG:\n",
    "    tile2NG_shift_values.append({\n",
    "        \"z\": -bbox[\"z\"][0],\n",
    "        \"y\": -bbox[\"y\"][0],\n",
    "        \"x\": -bbox[\"x\"][0]\n",
    "    })\n",
    "\n",
    "# calculate roi bbox for each tile in NG space\n",
    "roi_bbox_tile_NG = []\n",
    "for bbox in tile_bboxes_NG:\n",
    "    z_start = max(roi_bbox_NG[\"z\"][0], bbox[\"z\"][0])\n",
    "    z_end = min(roi_bbox_NG[\"z\"][1], bbox[\"z\"][1])\n",
    "    y_start = max(roi_bbox_NG[\"y\"][0], bbox[\"y\"][0])\n",
    "    y_end = min(roi_bbox_NG[\"y\"][1], bbox[\"y\"][1])\n",
    "    x_start = max(roi_bbox_NG[\"x\"][0], bbox[\"x\"][0])\n",
    "    x_end = min(roi_bbox_NG[\"x\"][1], bbox[\"x\"][1])\n",
    "\n",
    "    # Check if the bounding boxes overlap\n",
    "    if z_start < z_end and y_start < y_end and x_start < x_end:\n",
    "        roi_bbox_tile_NG.append({\n",
    "            \"z\": (z_start, z_end),\n",
    "            \"y\": (y_start, y_end),\n",
    "            \"x\": (x_start, x_end)\n",
    "        })\n",
    "    else:\n",
    "        # Append None for non-overlapping regions\n",
    "        roi_bbox_tile_NG.append(None)\n",
    "\n",
    "# shift roi_bbox_tile_NG to TS space, using TS2NG_shift_values\n",
    "roi_bbox_tile_TS = []\n",
    "for i, bbox in enumerate(roi_bbox_tile_NG):\n",
    "    if bbox is None:\n",
    "        roi_bbox_tile_TS.append(None)\n",
    "        continue\n",
    "    roi_bbox_tile_TS.append({\n",
    "        \"z\": (bbox[\"z\"][0] + TS2NG_shift_values[\"z\"], bbox[\"z\"][1] + TS2NG_shift_values[\"z\"]),\n",
    "        \"y\": (bbox[\"y\"][0] + TS2NG_shift_values[\"y\"], bbox[\"y\"][1] + TS2NG_shift_values[\"y\"]),\n",
    "        \"x\": (bbox[\"x\"][0] + TS2NG_shift_values[\"x\"], bbox[\"x\"][1] + TS2NG_shift_values[\"x\"])\n",
    "    })\n",
    "\n",
    "# shift roi_bbox_tile_NG to tile space, using tile2NG_shift_values\n",
    "roi_bbox_tile = []\n",
    "for i, bbox in enumerate(roi_bbox_tile_NG):\n",
    "    if bbox is None:\n",
    "        roi_bbox_tile.append(None)\n",
    "        continue\n",
    "    roi_bbox_tile.append({\n",
    "        \"z\": (bbox[\"z\"][0] + tile2NG_shift_values[i][\"z\"], bbox[\"z\"][1] + tile2NG_shift_values[i][\"z\"]),\n",
    "        \"y\": (bbox[\"y\"][0] + tile2NG_shift_values[i][\"y\"], bbox[\"y\"][1] + tile2NG_shift_values[i][\"y\"]),\n",
    "        \"x\": (bbox[\"x\"][0] + tile2NG_shift_values[i][\"x\"], bbox[\"x\"][1] + tile2NG_shift_values[i][\"x\"])\n",
    "    })"
   ]
  },
  {
   "cell_type": "code",
   "execution_count": 14,
   "metadata": {},
   "outputs": [
    {
     "data": {
      "text/plain": [
       "[{'z': (29031, 33102), 'y': (18719, 20782), 'x': (1688, 1905)}]"
      ]
     },
     "execution_count": 14,
     "metadata": {},
     "output_type": "execute_result"
    }
   ],
   "source": [
    "roi_bbox_tile_NG"
   ]
  },
  {
   "cell_type": "code",
   "execution_count": null,
   "metadata": {},
   "outputs": [],
   "source": []
  },
  {
   "cell_type": "code",
   "execution_count": 15,
   "metadata": {},
   "outputs": [],
   "source": [
    "# out_arr = create_EmptyTensor('/ACdata/Users/wanqing/data/image/TS_Array_vive_H17_ES2_S7c_20241106_tile1_test5.n5', roi_shape_TS, dtype = 'uint16', driver = 'n5', fill_value=0)\n",
    "out_arr = create_EmptyTensor(zarr_output_path, roi_shape_TS, dtype = 'uint16', fill_value=0)"
   ]
  },
  {
   "cell_type": "code",
   "execution_count": 16,
   "metadata": {},
   "outputs": [
    {
     "data": {
      "text/plain": [
       "(4071, 2063, 217)"
      ]
     },
     "execution_count": 16,
     "metadata": {},
     "output_type": "execute_result"
    }
   ],
   "source": [
    "out_arr.shape"
   ]
  },
  {
   "cell_type": "code",
   "execution_count": 17,
   "metadata": {},
   "outputs": [
    {
     "name": "stdout",
     "output_type": "stream",
     "text": [
      "0\n"
     ]
    }
   ],
   "source": [
    "# Load Zarr data for individual tiles and add to tensor_store\n",
    "# tile_paths = [\n",
    "#     \"/ACdata/Users/kevin/exaspim_ome_zarr/svc_axonal/H17_PO11_S9_20250221/exaSPIM.zarr/Pos0/0/\"\n",
    "# ]\n",
    "\n",
    "for i, tile_path in enumerate(tile_paths):\n",
    "    stack = open_ZarrTensor(tile_path, bytes_limit= 100_000_000)\n",
    "    bbox_tile = roi_bbox_tile[i]\n",
    "    bbox_tile_TS = roi_bbox_tile_TS[i]\n",
    "    if bbox_tile is None:\n",
    "        continue\n",
    "    stack = stack[0,0,bbox_tile[\"z\"][0]:bbox_tile[\"z\"][1],\n",
    "                  bbox_tile[\"y\"][0]:bbox_tile[\"y\"][1],\n",
    "                  bbox_tile[\"x\"][0]:bbox_tile[\"x\"][1]]\n",
    "    # stack = stack[0,0,:,:,:]\n",
    "\n",
    "    # # loop through z\n",
    "    # for z in range(bbox_tile[\"z\"][0], bbox_tile[\"z\"][1]):\n",
    "    #     out_arr[z+tile2NG_shift_values[i][\"z\"],\n",
    "    #             bbox_tile_TS[\"y\"][0]:bbox_tile_TS[\"y\"][1],\n",
    "    #             bbox_tile_TS[\"x\"][0]:bbox_tile_TS[\"x\"][1]].write(\n",
    "    #                 stack[z, \n",
    "    #                       bbox_tile[\"y\"][0]:bbox_tile[\"y\"][1],\n",
    "    #                       bbox_tile[\"x\"][0]:bbox_tile[\"x\"][1]].read().result()).result()\n",
    "    \n",
    "    out_arr[bbox_tile_TS[\"z\"][0]:bbox_tile_TS[\"z\"][1],\n",
    "            bbox_tile_TS[\"y\"][0]:bbox_tile_TS[\"y\"][1],\n",
    "            bbox_tile_TS[\"x\"][0]:bbox_tile_TS[\"x\"][1]].write(\n",
    "                stack.read().result()+\n",
    "                out_arr[bbox_tile_TS[\"z\"][0]:bbox_tile_TS[\"z\"][1], \n",
    "                        bbox_tile_TS[\"y\"][0]:bbox_tile_TS[\"y\"][1],\n",
    "                        bbox_tile_TS[\"x\"][0]:bbox_tile_TS[\"x\"][1]].read().result()).result()\n",
    "    print(i)"
   ]
  },
  {
   "cell_type": "code",
   "execution_count": null,
   "metadata": {},
   "outputs": [],
   "source": []
  },
  {
   "cell_type": "code",
   "execution_count": null,
   "metadata": {},
   "outputs": [],
   "source": []
  },
  {
   "cell_type": "code",
   "execution_count": 18,
   "metadata": {},
   "outputs": [
    {
     "data": {
      "text/plain": [
       "TensorStore({\n",
       "  'context': {\n",
       "    'cache_pool': {},\n",
       "    'data_copy_concurrency': {},\n",
       "    'file_io_concurrency': {},\n",
       "    'file_io_sync': True,\n",
       "  },\n",
       "  'driver': 'zarr3',\n",
       "  'dtype': 'uint16',\n",
       "  'kvstore': {\n",
       "    'driver': 'file',\n",
       "    'path': '/ACdata/Users/wanqing/data/image/H17_PO11_S8_20250226_exaSPIM_Pos0_cutout1/H17_PO11_S8_20250226_exaSPIM_Pos0_cutout1.zarr/',\n",
       "  },\n",
       "  'metadata': {\n",
       "    'chunk_grid': {\n",
       "      'configuration': {'chunk_shape': [64, 64, 64]},\n",
       "      'name': 'regular',\n",
       "    },\n",
       "    'chunk_key_encoding': {'name': 'default'},\n",
       "    'codecs': [{'configuration': {'endian': 'little'}, 'name': 'bytes'}],\n",
       "    'data_type': 'uint16',\n",
       "    'fill_value': 0,\n",
       "    'node_type': 'array',\n",
       "    'shape': [4071, 2063, 217],\n",
       "    'zarr_format': 3,\n",
       "  },\n",
       "  'transform': {\n",
       "    'input_exclusive_max': [[4071], [2063], [217]],\n",
       "    'input_inclusive_min': [0, 0, 0],\n",
       "  },\n",
       "})"
      ]
     },
     "execution_count": 18,
     "metadata": {},
     "output_type": "execute_result"
    }
   ],
   "source": [
    "out_arr"
   ]
  },
  {
   "cell_type": "code",
   "execution_count": 19,
   "metadata": {},
   "outputs": [],
   "source": [
    "import tifffile as tiff\n",
    "tiff.imwrite(tiff_output_path, out_arr.read().result())"
   ]
  }
 ],
 "metadata": {
  "kernelspec": {
   "display_name": ".venv",
   "language": "python",
   "name": "python3"
  },
  "language_info": {
   "codemirror_mode": {
    "name": "ipython",
    "version": 3
   },
   "file_extension": ".py",
   "mimetype": "text/x-python",
   "name": "python",
   "nbconvert_exporter": "python",
   "pygments_lexer": "ipython3",
   "version": "3.12.9"
  }
 },
 "nbformat": 4,
 "nbformat_minor": 2
}
