{
 "cells": [
  {
   "cell_type": "code",
   "execution_count": 2,
   "metadata": {},
   "outputs": [],
   "source": [
    "# use napari to view axonal connectomics data\n",
    "# \n",
    "import os\n",
    "import numpy as np\n",
    "\n",
    "#from PIL import Image , ImageSequence\n",
    "#import tifffile as tf\n",
    "\n",
    "from imageio import  mimread, mimwrite # for reading multi-image tifs \n",
    "#from skimage.transform import downscale_local_mean   # downsample nd array efficiently along multiple axes\n",
    "import napari\n",
    "\n",
    "import time\n"
   ]
  },
  {
   "cell_type": "code",
   "execution_count": 3,
   "metadata": {},
   "outputs": [
    {
     "data": {
      "text/plain": [
       "'\\nfrom skimage.data import cells3d\\n\\nimport napari\\n# create a `Viewer` and `Image` layer here\\nviewer, image_layer = napari.imshow(cells3d())'"
      ]
     },
     "execution_count": 3,
     "metadata": {},
     "output_type": "execute_result"
    }
   ],
   "source": [
    "# import sample data \n",
    "\"\"\"\n",
    "from skimage.data import cells3d\n",
    "\n",
    "import napari\n",
    "# create a `Viewer` and `Image` layer here\n",
    "viewer, image_layer = napari.imshow(cells3d())\"\"\""
   ]
  },
  {
   "cell_type": "code",
   "execution_count": 4,
   "metadata": {},
   "outputs": [],
   "source": [
    "infile = '/Users/clayreid/Axonal Connectomics Dropbox/clay r/Dropbox/clay/MN7/mn732Overviews/MN79s22-s21-nogrid-crop/MN79s22-s21-ds133overviewConcatGrp5cropTranslateCropCyPurple.tif'\n",
    "infile = '/Users/clayreid/Axonal Connectomics Dropbox/clay r/Dropbox/clay/MN7/MN7_9_S21_220527_high_resxcrop1440-750/strips/strip5short.tif'\n",
    "infile = '/Users/clayreid/Axonal Connectomics Dropbox/clay r/Dropbox/clay/MN7/MN7_9_S21_220527_high_resxcrop1440-750/strips/strip5short-500CubeForNapari.tif'\n",
    "infile = '/Users/clayreid/Axonal Connectomics Dropbox/Clay/MN7/MN7_9_S21_220527_high_resx4xcrop1440-750/strip5short500crop.tif'\n",
    "infile = '/Users/rclayreid/Axonal Connectomics Dropbox/Imaging/sample data/Reslice of H17_PO11_S8_20250226_exaSPIM_Pos0_cutout1 percentilenorm 8bit.tif'\n",
    "infile = '/Users/wanqing.yu/Axonal Connectomics Dropbox/Imaging/sample data/Reslice of H17_PO11_S8_20250226_exaSPIM_Pos0_cutout1 percentilenorm 8bit.tif'\n",
    "ximstack=np.array(mimread(infile,memtest=False)) # read tif image stack as np.array\n"
   ]
  },
  {
   "cell_type": "code",
   "execution_count": 5,
   "metadata": {},
   "outputs": [],
   "source": [
    "viewer = napari.view_image(ximstack, rgb=False)"
   ]
  },
  {
   "cell_type": "code",
   "execution_count": 6,
   "metadata": {},
   "outputs": [
    {
     "ename": "NameError",
     "evalue": "name 'imstackdeskew' is not defined",
     "output_type": "error",
     "traceback": [
      "\u001b[0;31m---------------------------------------------------------------------------\u001b[0m",
      "\u001b[0;31mNameError\u001b[0m                                 Traceback (most recent call last)",
      "Cell \u001b[0;32mIn[6], line 1\u001b[0m\n\u001b[0;32m----> 1\u001b[0m viewer \u001b[38;5;241m=\u001b[39m napari\u001b[38;5;241m.\u001b[39mview_image(\u001b[43mimstackdeskew\u001b[49m, rgb\u001b[38;5;241m=\u001b[39m\u001b[38;5;28;01mFalse\u001b[39;00m)\n",
      "\u001b[0;31mNameError\u001b[0m: name 'imstackdeskew' is not defined"
     ]
    }
   ],
   "source": [
    "viewer = napari.view_image(imstackdeskew, rgb=False)"
   ]
  },
  {
   "cell_type": "code",
   "execution_count": null,
   "metadata": {},
   "outputs": [],
   "source": []
  },
  {
   "cell_type": "code",
   "execution_count": null,
   "metadata": {},
   "outputs": [],
   "source": []
  }
 ],
 "metadata": {
  "kernelspec": {
   "display_name": "AC",
   "language": "python",
   "name": "python3"
  },
  "language_info": {
   "codemirror_mode": {
    "name": "ipython",
    "version": 3
   },
   "file_extension": ".py",
   "mimetype": "text/x-python",
   "name": "python",
   "nbconvert_exporter": "python",
   "pygments_lexer": "ipython3",
   "version": "3.12.2"
  },
  "orig_nbformat": 4
 },
 "nbformat": 4,
 "nbformat_minor": 2
}
